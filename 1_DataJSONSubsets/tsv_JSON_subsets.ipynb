{
 "cells": [
  {
   "cell_type": "markdown",
   "source": [
    "# CSV to TSV JSON\n",
    "This notebook takes the raw data file and converts it into tsv json format."
   ],
   "metadata": {
    "collapsed": false
   }
  },
  {
   "cell_type": "code",
   "execution_count": 5,
   "outputs": [],
   "source": [
    "# imports\n",
    "import pandas as pd\n",
    "import random\n",
    "import json"
   ],
   "metadata": {
    "collapsed": false
   }
  },
  {
   "cell_type": "markdown",
   "source": [
    "We then make a subset of 1000 of the dataset then convert it to json"
   ],
   "metadata": {
    "collapsed": false
   }
  },
  {
   "cell_type": "code",
   "execution_count": 6,
   "metadata": {
    "collapsed": true
   },
   "outputs": [],
   "source": [
    "# Load your dataset into a pandas dataframe called df\n",
    "df = pd.read_csv('../Datasets/Master_Pixstory_Dataset_EXTRACT_ANALYSIS.csv')\n",
    "\n",
    "# Sample 1000 random rows from the dataframe\n",
    "subset_df = df.sample(n=1000)\n",
    "\n",
    "# Convert the subset dataframe to a TSV JSON string\n",
    "tsv_json_str = subset_df.to_json(orient='records')\n",
    "\n",
    "# Save the TSV JSON string to a file\n",
    "with open('dataset_subset_1000.json', 'w') as f:\n",
    "    f.write(tsv_json_str)"
   ]
  }
 ],
 "metadata": {
  "kernelspec": {
   "display_name": "Python 3",
   "language": "python",
   "name": "python3"
  },
  "language_info": {
   "codemirror_mode": {
    "name": "ipython",
    "version": 2
   },
   "file_extension": ".py",
   "mimetype": "text/x-python",
   "name": "python",
   "nbconvert_exporter": "python",
   "pygments_lexer": "ipython2",
   "version": "2.7.6"
  }
 },
 "nbformat": 4,
 "nbformat_minor": 0
}
