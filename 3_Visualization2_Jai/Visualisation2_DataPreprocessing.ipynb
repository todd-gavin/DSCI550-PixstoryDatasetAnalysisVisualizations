{
 "cells": [
  {
   "cell_type": "markdown",
   "source": [
    "# Data Preprocessing for Visualisation 2\n",
    "Use this notebook to see how the data is preprocessed for Visualisation 2"
   ],
   "metadata": {
    "collapsed": false
   }
  },
  {
   "cell_type": "code",
   "execution_count": 1,
   "outputs": [],
   "source": [
    "# imports\n",
    "import pandas as pd"
   ],
   "metadata": {
    "collapsed": false
   }
  },
  {
   "cell_type": "code",
   "execution_count": 2,
   "metadata": {
    "collapsed": true
   },
   "outputs": [],
   "source": [
    "# load your dataframe\n",
    "df = pd.read_csv(\"../Datasets/Master_Pixstory_Dataset_EXTRACT_ANALYSIS.csv\")\n",
    "\n",
    "# count the number of occurrences of each language\n",
    "lang_counts = df[\"Narrative LangDetect\"].value_counts()\n",
    "\n",
    "# create a new dataframe with two columns: \"language\" and \"count\"\n",
    "lang_df = pd.DataFrame({\"language\": lang_counts.index, \"count\": lang_counts.values})\n",
    "\n",
    "lang_df.to_csv(\"Visualisation2.csv\", index=False)"
   ]
  }
 ],
 "metadata": {
  "kernelspec": {
   "display_name": "Python 3",
   "language": "python",
   "name": "python3"
  },
  "language_info": {
   "codemirror_mode": {
    "name": "ipython",
    "version": 2
   },
   "file_extension": ".py",
   "mimetype": "text/x-python",
   "name": "python",
   "nbconvert_exporter": "python",
   "pygments_lexer": "ipython2",
   "version": "2.7.6"
  }
 },
 "nbformat": 4,
 "nbformat_minor": 0
}
