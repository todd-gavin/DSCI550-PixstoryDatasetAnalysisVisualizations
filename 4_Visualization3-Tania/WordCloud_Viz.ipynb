{
 "cells": [
  {
   "cell_type": "code",
   "execution_count": 1,
   "id": "f67095a4",
   "metadata": {},
   "outputs": [],
   "source": [
    "import pandas as pd\n",
    "import random\n",
    "import nltk\n",
    "from nltk.corpus import stopwords\n",
    "import math\n"
   ]
  },
  {
   "cell_type": "code",
   "execution_count": null,
   "id": "30beff49",
   "metadata": {},
   "outputs": [],
   "source": [
    "nltk.download('punkt')"
   ]
  },
  {
   "cell_type": "code",
   "execution_count": 2,
   "id": "177c7240",
   "metadata": {},
   "outputs": [],
   "source": [
    "#Reading in dataset\n",
    "df = pd.read_csv('/Users/taniadawood/Desktop/DSCI550-PixstoryDatasetAnalysisVisualizations/Datasets/Master_Pixstory_Dataset_EXTRACT_ANALYSIS.csv')\n"
   ]
  },
  {
   "cell_type": "code",
   "execution_count": 3,
   "id": "414673f6",
   "metadata": {},
   "outputs": [],
   "source": [
    "#Sorting dataframe by 'Date (No Timestamp)'\n",
    "df = df.astype(str)\n",
    "df = df.sort_values('Date (No Timestamp)')"
   ]
  },
  {
   "cell_type": "code",
   "execution_count": 4,
   "id": "f40ddf85",
   "metadata": {},
   "outputs": [],
   "source": [
    "#Splitting dataframe into subsets of 20k rows each\n",
    "subsets = [df[i:i+20000] for i in range(0, len(df), 20000)]"
   ]
  },
  {
   "cell_type": "code",
   "execution_count": 25,
   "id": "ccd37c69",
   "metadata": {},
   "outputs": [],
   "source": [
    "stopwords = set(stopwords.words('english'))\n",
    "my_stopwords = [\"the\", \"i\", \"also\", \"one\", \"it\", \"in\", \"first\", \"said\", \"like\", \"a\", \"would\", \"this\", \"he\", \"made\", \"many\", \"we\", \"well\", \"make\", \"but\", \"even\", \"could\", \"back\", \"get\", \"th\", \"they\", \"i\", \"me\", \"my\", \"myself\", \"we\", \"us\", \"our\", \"ours\", \"ourselves\", \"you\", \"your\", \"yours\", \"yourself\", \"yourselves\", \"he\", \"him\", \"his\", \"himself\", \"she\", \"her\", \"hers\", \"herself\", \"it\", \"its\", \"itself\", \"they\", \"them\", \"their\", \"theirs\", \"themselves\", \"what\", \"which\", \"who\", \"whom\", \"whose\", \"this\", \"that\", \"these\", \"those\", \"am\", \"is\", \"are\", \"was\", \"were\", \"be\", \"been\", \"being\", \"have\", \"has\", \"had\", \"having\", \"do\", \"does\", \"did\", \"doing\", \"will\", \"would\", \"should\", \"can\", \"could\", \"ought\", \"I'm\", \"you're\", \"he's\", \"she's\", \"it's\", \"we're\", \"they're\", \"I've\", \"you've\", \"we've\", \"they've\", \"I'd\", \"you'd\", \"he'd\", \"she'd\", \"we'd\", \"they'd\", \"I'll\", \"you'll\", \"he'll\", \"she'll\", \"we'll\", \"they'll\", \"isn't\", \"aren't\", \"wasn't\", \"weren't\", \"hasn't\", \"haven't\", \"hadn't\", \"doesn't\", \"don't\", \"didn't\", \"won't\", \"wouldn't\", \"shan't\", \"shouldn't\", \"can't\", \"cannot\", \"couldn't\", \"mustn't\", \"let's\", \"that's\", \"who's\", \"what's\", \"here's\", \"there's\", \"when's\", \"where's\", \"why's\", \"how's\", \"a\", \"an\", \"the\", \"and\", \"but\", \"if\", \"or\", \"because\", \"as\", \"until\", \"while\", \"of\", \"at\", \"by\", \"for\", \"with\", \"about\", \"against\", \"between\", \"into\", \"through\", \"during\", \"before\", \"after\", \"above\", \"below\", \"to\", \"from\", \"up\", \"upon\", \"down\", \"out\", \"on\", \"off\", \"over\", \"under\", \"again\", \"further\", \"then\", \"once\", \"here\", \"there\", \"when\", \"where\", \"why\", \"how\", \"all\", \"any\", \"both\", \"each\", \"few\", \"more\", \"most\", \"other\", \"some\", \"such\", \"no\", \"nor\", \"not\", \"only\", \"own\", \"same\", \"so\", \"than\", \"too\", \"very\", \"say\", \"says\", \"said\", \"shall\", \"go\", \"The\", \"I\", \"Also\", \"One\", \"It\", \"In\", \"First\", \"Said\", \"Like\", \"A\", \"Would\", \"This\", \"He\", \"Made\", \"Many\", \"We\", \"Well\", \"Make\", \"But\", \"Even\", \"Could\", \"Back\", \"Get\", \"Th\", \"They\", \"I\", \"Me\", \"My\", \"Myself\", \"We\", \"Us\", \"Our\", \"Ours\", \"Ourselves\", \"You\", \"Your\", \"Yours\", \"Yourself\", \"Yourselves\", \"He\", \"Him\", \"His\", \"Himself\", \"She\", \"Her\", \"Hers\", \"Herself\", \"It\", \"Its\", \"Itself\", \"They\", \"Them\", \"Their\", \"Theirs\", \"Themselves\", \"What\", \"Which\", \"Who\", \"Whom\", \"Whose\", \"This\", \"That\", \"These\", \"Those\", \"Am\", \"Is\", \"Are\", \"Was\", \"Were\", \"Be\", \"Been\", \"Being\", \"Have\", \"Has\", \"Had\", \"Having\", \"Do\", \"Does\", \"Did\", \"Doing\", \"Will\", \"Would\", \"Should\", \"Can\", \"Could\", \"Ought\", \"I'm\", \"You're\", \"He's\", \"She's\", \"It's\", \"We're\", \"They're\", \"I've\", \"You've\", \"We've\", \"They've\", \"I'd\", \"You'd\", \"He'd\", \"She'd\", \"We'd\", \"They'd\", \"I'll\", \"You'll\", \"He'll\", \"She'll\", \"We'll\", \"They'll\", \"Isn't\", \"Aren't\", \"Wasn't\", \"Weren't\", \"Hasn't\", \"Haven't\", \"Hadn't\", \"Doesn't\", \"Don't\", \"Didn't\", \"Won't\", \"Wouldn't\", \"Shan't\", \"Shouldn't\", \"Can't\", \"Cannot\", \"Couldn't\", \"Mustn't\", \"Let's\", \"That's\", \"Who's\", \"What's\", \"Here's\", \"There's\", \"When's\", \"Where's\", \"Why's\", \"How's\", \"A\", \"An\", \"The\", \"And\", \"But\", \"If\", \"Or\", \"Because\", \"As\", \"Until\", \"While\", \"Of\", \"At\", \"By\", \"For\", \"With\", \"About\", \"Against\", \"Between\", \"Into\", \"Through\", \"During\", \"Before\", \"After\", \"Above\", \"Below\", \"To\", \"From\", \"Up\", \"Upon\", \"Down\", \"Out\", \"On\", \"Off\", \"Over\", \"Under\", \"Again\", \"Further\", \"Then\", \"Once\", \"Here\", \"There\", \"When\", \"Where\", \"Why\", \"How\", \"All\", \"Any\", \"Both\", \"Each\", \"Few\", \"More\", \"Most\", \"Other\", \"Some\", \"Such\", \"No\", \"Nor\", \"Not\", \"Only\", \"Own\", \"Same\", \"So\", \"Than\", \"Too\", \"Very\", \"Say\", \"Says\", \"Said\", \"Shall\", \"Go\"]       \n",
    "stopwords.update(my_stopwords)\n",
    "#Grabbing random 3k words from the 'Translated Narrative' column from each subset\n",
    "words = []\n",
    "for subset in subsets:\n",
    "    #Combining all the 'Translated Narrative' columns from the subset into a single string\n",
    "    text = ' '.join(subset['Translated Narrative'].astype(str).tolist())\n",
    "    #Splitting the text into words and count their frequency\n",
    "    word_freq = pd.Series(text.split()).value_counts()\n",
    "    word_freq = word_freq[~word_freq.index.isin(stopwords)]\n",
    "\n",
    "    # Select the top 3k most frequent words and add them to the list\n",
    "    for word, count in word_freq.nlargest(3000).items():\n",
    "        words.append({'word': word, 'size': str(math.ceil(count / 100))})\n",
    "\n",
    "\n",
    "\n"
   ]
  },
  {
   "cell_type": "code",
   "execution_count": 26,
   "id": "2b52cbc3",
   "metadata": {},
   "outputs": [
    {
     "name": "stdout",
     "output_type": "stream",
     "text": [
      "[{'word': 'people', 'size': '60'}, {'word': 'time', 'size': '55'}, {'word': 'India', 'size': '50'}, {'word': 'year', 'size': '45'}, {'word': 'two', 'size': '43'}, {'word': 'years', 'size': '41'}, {'word': 'women', 'size': '39'}, {'word': 'new', 'size': '39'}, {'word': 'Afghanistan', 'size': '34'}, {'word': 'day', 'size': '33'}, {'word': 'health', 'size': '32'}, {'word': 'last', 'size': '31'}, {'word': 'world', 'size': '30'}, {'word': 'country', 'size': '30'}, {'word': 'life', 'size': '30'}, {'word': 'government', 'size': '25'}, {'word': 'may', 'size': '24'}, {'word': 'team', 'size': '23'}, {'word': 'Indian', 'size': '23'}, {'word': 'Taliban', 'size': '22'}, {'word': 'work', 'size': '22'}, {'word': 'media', 'size': '22'}, {'word': 'way', 'size': '22'}, {'word': 'three', 'size': '22'}, {'word': 'take', 'size': '21'}, {'word': 'children', 'size': '21'}, {'word': 'video', 'size': '21'}, {'word': 'help', 'size': '21'}, {'word': 'social', 'size': '20'}, {'word': 'know', 'size': '20'}, {'word': 'film', 'size': '20'}, {'word': 'much', 'size': '20'}, {'word': 'good', 'size': '19'}, {'word': 'part', 'size': '19'}, {'word': 'since', 'size': '19'}, {'word': 'season', 'size': '19'}, {'word': 'days', 'size': '19'}, {'word': 'still', 'size': '18'}, {'word': 'including', 'size': '18'}, {'word': 'US', 'size': '18'}, {'word': 'high', 'size': '18'}, {'word': 'old', 'size': '18'}, {'word': 'Ukraine', 'size': '18'}, {'word': 'around', 'size': '18'}, {'word': 'state', 'size': '18'}, {'word': 'family', 'size': '17'}, {'word': 'best', 'size': '17'}, {'word': 'right', 'size': '17'}, {'word': 'Read', 'size': '17'}, {'word': 'long', 'size': '17'}, {'word': 'every', 'size': '17'}, {'word': 'second', 'size': '17'}, {'word': 'Afghan', 'size': '17'}, {'word': 'see', 'size': '17'}, {'word': 'story', 'size': '17'}, {'word': 'found', 'size': '17'}, {'word': 'body', 'size': '17'}, {'word': 'Russia', 'size': '16'}, {'word': 'place', 'size': '16'}, {'word': 'study', 'size': '16'}, {'word': 'need', 'size': '16'}, {'word': 'called', 'size': '16'}, {'word': 'seen', 'size': '16'}, {'word': 'United', 'size': '16'}, {'word': 'used', 'size': '16'}, {'word': 'risk', 'size': '16'}, {'word': 'end', 'size': '16'}, {'word': 'Singh', 'size': '16'}, {'word': 'home', 'size': '16'}, {'word': 'food', 'size': '15'}, {'word': 'important', 'size': '15'}, {'word': 'among', 'size': '15'}, {'word': 'different', 'size': '15'}, {'word': 'set', 'size': '15'}, {'word': 'World', 'size': '15'}, {'word': 'going', 'size': '15'}, {'word': 'support', 'size': '15'}, {'word': 'love', 'size': '15'}, {'word': 'full', 'size': '15'}, {'word': 'game', 'size': '15'}, {'word': 'without', 'size': '15'}, {'word': 'number', 'size': '15'}, {'word': 'always', 'size': '15'}, {'word': 'use', 'size': '15'}, {'word': 'per', 'size': '15'}, {'word': 'Pakistan', 'size': '15'}, {'word': 'great', 'size': '15'}, {'word': 'today', 'size': '15'}, {'word': 'According', 'size': '15'}, {'word': 'next', 'size': '14'}, {'word': 'took', 'size': '14'}, {'word': 'play', 'size': '14'}, {'word': 'movie', 'size': '14'}, {'word': 'million', 'size': '14'}, {'word': 'come', 'size': '14'}, {'word': 'group', 'size': '14'}, {'word': 'Congress', 'size': '14'}, {'word': 'want', 'size': '14'}, {'word': 'another', 'size': '14'}, {'word': 'become', 'size': '14'}, {'word': 'came', 'size': '14'}, {'word': 'Delhi', 'size': '14'}, {'word': 'countries', 'size': '13'}, {'word': 'former', 'size': '13'}, {'word': 'due', 'size': '13'}, {'word': 'mental', 'size': '13'}, {'word': 'never', 'size': '13'}, {'word': 'look', 'size': '13'}, {'word': 'New', 'size': '13'}, {'word': 'BJP', 'size': '13'}, {'word': 'across', 'size': '13'}, {'word': 'based', 'size': '13'}, {'word': 'better', 'size': '13'}, {'word': 'known', 'size': '13'}, {'word': 'war', 'size': '13'}, {'word': 'However', 'size': '13'}, {'word': 'men', 'size': '13'}, {'word': 'months', 'size': '12'}, {'word': 'Khan', 'size': '12'}, {'word': 'told', 'size': '12'}, {'word': 'already', 'size': '12'}, {'word': 'top', 'size': '12'}, {'word': 'news', 'size': '12'}, {'word': 'event', 'size': '12'}, {'word': 'shared', 'size': '12'}, {'word': 'show', 'size': '12'}, {'word': 'person', 'size': '12'}, {'word': 'four', 'size': '12'}, {'word': 'report', 'size': '12'}, {'word': 'public', 'size': '12'}, {'word': 'several', 'size': '12'}, {'word': 'National', 'size': '12'}, {'word': 'age', 'size': '12'}, {'word': 'Minister', 'size': '12'}, {'word': 'able', 'size': '12'}, {'word': 'might', 'size': '12'}, {'word': 'away', 'size': '12'}, {'word': 'feel', 'size': '12'}, {'word': 'international', 'size': '12'}, {'word': 'left', 'size': '12'}, {'word': 'Russian', 'size': '12'}, {'word': 'start', 'size': '12'}, {'word': 'power', 'size': '12'}, {'word': 'change', 'size': '12'}, {'word': 'water', 'size': '12'}, {'word': 'got', 'size': '12'}, {'word': 'President', 'size': '12'}, {'word': 'girls', 'size': '11'}, {'word': 'police', 'size': '11'}, {'word': 'diabetes', 'size': '11'}, {'word': 'match', 'size': '11'}, {'word': 'national', 'size': '11'}, {'word': 'according', 'size': '11'}, {'word': 'case', 'size': '11'}, {'word': 'party', 'size': '11'}, {'word': 'think', 'size': '11'}, {'word': 'heart', 'size': '11'}, {'word': 'care', 'size': '11'}, {'word': 'things', 'size': '11'}, {'word': 'club', 'size': '11'}, {'word': 'cases', 'size': '11'}, {'word': 'man', 'size': '11'}, {'word': 'find', 'size': '11'}, {'word': 'role', 'size': '11'}, {'word': 'making', 'size': '11'}, {'word': 'others', 'size': '11'}, {'word': 'human', 'size': '11'}, {'word': 'started', 'size': '11'}, {'word': 'past', 'size': '11'}, {'word': 'city', 'size': '11'}, {'word': 'given', 'size': '11'}, {'word': 'school', 'size': '11'}, {'word': 'times', 'size': '11'}, {'word': 'five', 'size': '11'}, {'word': 'give', 'size': '11'}, {'word': 'blood', 'size': '11'}, {'word': 'week', 'size': '11'}, {'word': 'together', 'size': '11'}, {'word': 'rights', 'size': '11'}, {'word': 'often', 'size': '11'}, {'word': 'Sources', 'size': '10'}, {'word': 'face', 'size': '10'}, {'word': 'lead', 'size': '10'}, {'word': 'less', 'size': '10'}, {'word': 'far', 'size': '10'}, {'word': 'history', 'size': '10'}, {'word': 'woman', 'size': '10'}, {'word': 'recent', 'size': '10'}, {'word': 'led', 'size': '10'}, {'word': 'win', 'size': '10'}, {'word': 'young', 'size': '10'}, {'word': 'events', 'size': '10'}, {'word': 'played', 'size': '10'}, {'word': 'must', 'size': '10'}, {'word': 'name', 'size': '10'}, {'word': 'future', 'size': '10'}, {'word': 'lot', 'size': '10'}, {'word': 'data', 'size': '10'}, {'word': 'later', 'size': '10'}, {'word': 'fact', 'size': '10'}, {'word': 'reported', 'size': '10'}, {'word': 'points', 'size': '10'}, {'word': 'added', 'size': '10'}, {'word': 'player', 'size': '10'}, {'word': 'continued', 'size': '10'}, {'word': 'put', 'size': '10'}, {'word': 'Covid', 'size': '10'}, {'word': 'least', 'size': '10'}, {'word': 'disease', 'size': '10'}, {'word': 'players', 'size': '10'}, {'word': 'went', 'size': '10'}, {'word': 'free', 'size': '10'}, {'word': 'half', 'size': '10'}, {'word': 'something', 'size': '10'}, {'word': 'continues', 'size': '10'}, {'word': 'keep', 'size': '10'}, {'word': 'patients', 'size': '10'}, {'word': 'S', 'size': '10'}, {'word': 'political', 'size': '10'}, {'word': 'nan', 'size': '10'}, {'word': 'hours', 'size': '10'}, {'word': 'ever', 'size': '10'}, {'word': 'taken', 'size': '10'}, {'word': 'post', 'size': '10'}, {'word': 'Trump', 'size': '10'}, {'word': 'early', 'size': '9'}, {'word': 'president', 'size': '9'}, {'word': 'system', 'size': '9'}, {'word': 'yet', 'size': '9'}, {'word': 'third', 'size': '9'}, {'word': 'series', 'size': '9'}, {'word': 'Cup', 'size': '9'}, {'word': 'U', 'size': '9'}, {'word': 'especially', 'size': '9'}, {'word': 'held', 'size': '9'}, {'word': 'little', 'size': '9'}, {'word': 'along', 'size': '9'}, {'word': 'comes', 'size': '9'}, {'word': 'big', 'size': '9'}, {'word': 'League', 'size': '9'}, {'word': 'pandemic', 'size': '9'}, {'word': 'experience', 'size': '9'}, {'word': 'fans', 'size': '9'}, {'word': 'Twitter', 'size': '9'}, {'word': 'situation', 'size': '9'}, {'word': 'final', 'size': '9'}, {'word': 'night', 'size': '9'}, {'word': 'really', 'size': '9'}, {'word': 'following', 'size': '9'}, {'word': 'live', 'size': '9'}, {'word': 'research', 'size': '9'}, {'word': 'China', 'size': '9'}, {'word': 'child', 'size': '9'}, {'word': 'point', 'size': '9'}, {'word': 'death', 'size': '9'}, {'word': 'almost', 'size': '9'}, {'word': 'students', 'size': '9'}, {'word': 'increase', 'size': '9'}, {'word': 'military', 'size': '9'}, {'word': 'COVID', 'size': '9'}, {'word': 'possible', 'size': '9'}, {'word': 'lost', 'size': '9'}, {'word': 'done', 'size': '9'}, {'word': 'healthy', 'size': '9'}, {'word': 'News', 'size': '9'}, {'word': 'announced', 'size': '9'}, {'word': 'return', 'size': '9'}, {'word': 'asked', 'size': '9'}, {'word': 'various', 'size': '9'}, {'word': 'control', 'size': '9'}, {'word': 'August', 'size': '9'}, {'word': 'community', 'size': '9'}, {'word': 'small', 'size': '8'}, {'word': 'Kabul', 'size': '8'}, {'word': 'wrote', 'size': '8'}, {'word': 'working', 'size': '8'}, {'word': 'statement', 'size': '8'}, {'word': 'claim', 'size': '8'}, {'word': 'law', 'size': '8'}, {'word': 'month', 'size': '8'}, {'word': 'members', 'size': '8'}, {'word': 'taking', 'size': '8'}, {'word': 'Now', 'size': '8'}, {'word': 'cause', 'size': '8'}, {'word': 'symptoms', 'size': '8'}, {'word': 'diet', 'size': '8'}, {'word': 'became', 'size': '8'}, {'word': 'order', 'size': '8'}, {'word': 'attack', 'size': '8'}, {'word': 'level', 'size': '8'}, {'word': 'getting', 'size': '8'}, {'word': 'within', 'size': '8'}, {'word': 'Dr', 'size': '8'}, {'word': 'Day', 'size': '8'}, {'word': 'Punjab', 'size': '8'}, {'word': 'Court', 'size': '8'}, {'word': 'recently', 'size': '8'}, {'word': 'close', 'size': '8'}, {'word': 'side', 'size': '8'}, {'word': 'six', 'size': '8'}, {'word': 'gender', 'size': '8'}, {'word': 'period', 'size': '8'}, {'word': 'decision', 'size': '8'}, {'word': 'security', 'size': '8'}, {'word': 'ago', 'size': '8'}, {'word': 'actor', 'size': '8'}, {'word': 'self', 'size': '8'}, {'word': 'move', 'size': '8'}, {'word': 'moment', 'size': '8'}, {'word': 'reports', 'size': '8'}, {'word': 'attacks', 'size': '8'}, {'word': 'lives', 'size': '8'}, {'word': 'Lakers', 'size': '8'}, {'word': 'State', 'size': '8'}, {'word': 'education', 'size': '8'}, {'word': 'likely', 'size': '8'}, {'word': 'University', 'size': '8'}, {'word': 'youth', 'size': '8'}, {'word': 'mother', 'size': '8'}, {'word': 'everyone', 'size': '8'}, {'word': 'goal', 'size': '8'}, {'word': 'American', 'size': '8'}, {'word': 'makes', 'size': '8'}, {'word': 'cancer', 'size': '8'}, {'word': 'let', 'size': '8'}, {'word': 'Link', 'size': '8'}, {'word': 'March', 'size': '8'}, {'word': 'Pradesh', 'size': '8'}, {'word': 'head', 'size': '8'}, {'word': 'released', 'size': '8'}, {'word': 'continue', 'size': '8'}, {'word': 'action', 'size': '8'}, {'word': 'star', 'size': '8'}, {'word': 'hand', 'size': '8'}, {'word': 'minutes', 'size': '8'}, {'word': 'energy', 'size': '8'}, {'word': 'January', 'size': '8'}, {'word': 'October', 'size': '8'}, {'word': 'type', 'size': '8'}, {'word': 'D', 'size': '8'}, {'word': 'large', 'size': '8'}, {'word': 'difficult', 'size': '8'}, {'word': 'PSG', 'size': '8'}, {'word': 'minister', 'size': '7'}, {'word': 'result', 'size': '7'}, {'word': 'Italian', 'size': '7'}, {'word': 'needs', 'size': '7'}, {'word': 'office', 'size': '7'}, {'word': 'States', 'size': '7'}, {'word': 'levels', 'size': '7'}, {'word': 'using', 'size': '7'}, {'word': 'open', 'size': '7'}, {'word': 'sports', 'size': '7'}, {'word': 'September', 'size': '7'}, {'word': 'Kapoor', 'size': '7'}, {'word': 'means', 'size': '7'}, {'word': 'viral', 'size': '7'}, {'word': 'common', 'size': '7'}, {'word': 'behind', 'size': '7'}, {'word': 'brain', 'size': '7'}, {'word': 'related', 'size': '7'}, {'word': 'playing', 'size': '7'}, {'word': 'Kashmir', 'size': '7'}, {'word': 'enough', 'size': '7'}, {'word': 'run', 'size': '7'}, {'word': 'Health', 'size': '7'}, {'word': 'information', 'size': '7'}, {'word': 'release', 'size': '7'}, {'word': 'European', 'size': '7'}, {'word': 'issues', 'size': '7'}, {'word': 'money', 'size': '7'}, {'word': 'population', 'size': '7'}, {'word': 'May', 'size': '7'}, {'word': 'career', 'size': '7'}, {'word': 'whether', 'size': '7'}, {'word': 'friends', 'size': '7'}, {'word': 'received', 'size': '7'}, {'word': 'February', 'size': '7'}, {'word': 'process', 'size': '7'}, {'word': 'official', 'size': '7'}, {'word': 'major', 'size': '7'}, {'word': 'special', 'size': '7'}, {'word': 'chief', 'size': '7'}, {'word': 'saying', 'size': '7'}, {'word': 'leader', 'size': '7'}, {'word': 'June', 'size': '7'}, {'word': 'treatment', 'size': '7'}, {'word': 'Kumar', 'size': '7'}, {'word': 'trans', 'size': '7'}, {'word': 'states', 'size': '7'}, {'word': 'create', 'size': '7'}, {'word': 'shows', 'size': '7'}, {'word': 'campaign', 'size': '7'}, {'word': 'officials', 'size': '7'}, {'word': 'foods', 'size': '7'}, {'word': 'Prime', 'size': '7'}, {'word': 'meeting', 'size': '7'}, {'word': 'Italy', 'size': '7'}, {'word': 'loss', 'size': '7'}, {'word': 'current', 'size': '7'}, {'word': 'published', 'size': '7'}, {'word': 'games', 'size': '7'}, {'word': 'groups', 'size': '7'}, {'word': 'area', 'size': '7'}, {'word': 'coming', 'size': '7'}, {'word': 'black', 'size': '7'}, {'word': 'economic', 'size': '7'}, {'word': 'image', 'size': '7'}, {'word': 'form', 'size': '7'}, {'word': 'white', 'size': '7'}, {'word': 'share', 'size': '7'}, {'word': 'Women', 'size': '7'}, {'word': 'father', 'size': '7'}, {'word': 'hit', 'size': '7'}, {'word': 'impact', 'size': '7'}, {'word': 'schools', 'size': '7'}, {'word': 'goals', 'size': '7'}, {'word': 'believe', 'size': '7'}, {'word': 'leave', 'size': '7'}, {'word': 'term', 'size': '7'}, {'word': 'hope', 'size': '7'}, {'word': 'list', 'size': '7'}, {'word': 'Gandhi', 'size': '7'}, {'word': 'West', 'size': '7'}, {'word': 'Sunday', 'size': '7'}, {'word': 'leaders', 'size': '7'}, {'word': 'Rs', 'size': '7'}, {'word': 'baby', 'size': '7'}, {'word': 'living', 'size': '7'}, {'word': 'weight', 'size': '7'}, {'word': 'elections', 'size': '7'}, {'word': 'non', 'size': '7'}, {'word': 'Juventus', 'size': '7'}, {'word': 'positive', 'size': '7'}, {'word': 'brand', 'size': '7'}, {'word': 'everything', 'size': '7'}, {'word': 'football', 'size': '7'}, {'word': 'someone', 'size': '7'}, {'word': 'available', 'size': '7'}, {'word': 'higher', 'size': '7'}, {'word': 'Putin', 'size': '7'}, {'word': 'ShareYaarNow', 'size': '7'}, {'word': 'percent', 'size': '7'}, {'word': 'strong', 'size': '7'}, {'word': 'real', 'size': '6'}, {'word': 'low', 'size': '6'}, {'word': 'Islamic', 'size': '6'}, {'word': 'though', 'size': '6'}, {'word': 'weeks', 'size': '6'}, {'word': 'clear', 'size': '6'}, {'word': 'towards', 'size': '6'}, {'word': 'Chief', 'size': '6'}, {'word': 'problems', 'size': '6'}, {'word': 'happy', 'size': '6'}, {'word': 'oil', 'size': '6'}, {'word': 'however', 'size': '6'}, {'word': 'mind', 'size': '6'}, {'word': 'global', 'size': '6'}, {'word': 'July', 'size': '6'}, {'word': 'hard', 'size': '6'}, {'word': 'physical', 'size': '6'}, {'word': 'stay', 'size': '6'}, {'word': 'total', 'size': '6'}, {'word': 'families', 'size': '6'}, {'word': 'lower', 'size': '6'}, {'word': 'violence', 'size': '6'}, {'word': 'deal', 'size': '6'}, {'word': 'provide', 'size': '6'}, {'word': 'society', 'size': '6'}, {'word': 'looking', 'size': '6'}, {'word': 'crisis', 'size': '6'}, {'word': 'decided', 'size': '6'}, {'word': 'Party', 'size': '6'}, {'word': 'British', 'size': '6'}, {'word': 'eating', 'size': '6'}, {'word': 'court', 'size': '6'}, {'word': 'increased', 'size': '6'}, {'word': 'South', 'size': '6'}, {'word': 'company', 'size': '6'}, {'word': 'record', 'size': '6'}, {'word': 'International', 'size': '6'}, {'word': 'stop', 'size': '6'}, {'word': 'soon', 'size': '6'}, {'word': 'currently', 'size': '6'}, {'word': 'forces', 'size': '6'}, {'word': 'April', 'size': '6'}, {'word': 'forward', 'size': '6'}, {'word': 'access', 'size': '6'}, {'word': 'local', 'size': '6'}, {'word': 'millions', 'size': '6'}, {'word': 'conditions', 'size': '6'}, {'word': 'main', 'size': '6'}, {'word': 'T', 'size': '6'}, {'word': 'peace', 'size': '6'}, {'word': 'leading', 'size': '6'}, {'word': 'Messi', 'size': '6'}, {'word': 'milk', 'size': '6'}, {'word': 'try', 'size': '6'}, {'word': 'users', 'size': '6'}, {'word': 'areas', 'size': '6'}]\n"
     ]
    }
   ],
   "source": [
    "print(words[:500])   \n"
   ]
  },
  {
   "cell_type": "code",
   "execution_count": null,
   "id": "89c7b90f",
   "metadata": {},
   "outputs": [],
   "source": []
  }
 ],
 "metadata": {
  "kernelspec": {
   "display_name": "Python 3",
   "language": "python",
   "name": "python3"
  },
  "language_info": {
   "codemirror_mode": {
    "name": "ipython",
    "version": 3
   },
   "file_extension": ".py",
   "mimetype": "text/x-python",
   "name": "python",
   "nbconvert_exporter": "python",
   "pygments_lexer": "ipython3",
   "version": "3.8.8"
  }
 },
 "nbformat": 4,
 "nbformat_minor": 5
}
