{
 "cells": [
  {
   "cell_type": "code",
   "execution_count": null,
   "id": "e6a6c326",
   "metadata": {},
   "outputs": [],
   "source": [
    "import pandas as pd\n",
    "import csv\n",
    "import statistics\n"
   ]
  },
  {
   "cell_type": "code",
   "execution_count": 9,
   "id": "e82c3518",
   "metadata": {},
   "outputs": [],
   "source": [
    "# # reading in dataset\n",
    "df = pd.read_csv('/Users/taniadawood/Desktop/DSCI550-PixstoryDatasetAnalysisVisualizations/Datasets/Master_Pixstory_Dataset_EXTRACT_ANALYSIS.csv')\n"
   ]
  },
  {
   "cell_type": "code",
   "execution_count": 10,
   "id": "b1edca90",
   "metadata": {},
   "outputs": [],
   "source": [
    "#creating an empty dictionary to store the interests and ages\n",
    "interests_dict = {}\n",
    "\n",
    "#looping through each row of the df\n",
    "for index, row in df.iterrows():\n",
    "    # split interests at the \",\"\n",
    "    interests = row[\"Interest\"].split(\", \")  \n",
    "    age = row[\"Age\"]\n",
    "    for interest in interests:\n",
    "        if interest in interests_dict:\n",
    "            interests_dict[interest].append(age)\n",
    "        else:\n",
    "            interests_dict[interest] = [age]"
   ]
  },
  {
   "cell_type": "code",
   "execution_count": 15,
   "id": "224e3104",
   "metadata": {},
   "outputs": [],
   "source": [
    "#creating an empty dictionary to store the interest, average age, and count of posts\n",
    "interests_stats = {}\n",
    "\n",
    "#looping through each key-value pairs and calculating the average age and count\n",
    "for interest, ages in interests_dict.items():\n",
    "    avg_age = round(statistics.mean(ages), 1)  \n",
    "    #count is the number of posts for this interest\n",
    "    count = len(ages)  \n",
    "    interests_stats[interest] = (count, avg_age)  \n",
    "\n",
    "#sorting interests by the count in descending order \n",
    "sorted_interests = sorted(interests_stats.items(), key=lambda x: x[1][0], reverse=True)[:1000]\n",
    "\n",
    "#writing the sorted interests to a CSV file\n",
    "with open('bubble_chart_ss.csv', 'w', newline='') as csvfile:\n",
    "    writer = csv.writer(csvfile)\n",
    "    writer.writerow(['avg_age', 'count', 'interest'])\n",
    "    for interest, stats in sorted_interests:\n",
    "        count, avg_age = stats\n",
    "        writer.writerow([avg_age, count, interest])\n"
   ]
  },
  {
   "cell_type": "code",
   "execution_count": null,
   "id": "1ede80fc",
   "metadata": {},
   "outputs": [],
   "source": []
  },
  {
   "cell_type": "code",
   "execution_count": null,
   "id": "b1f545c7",
   "metadata": {},
   "outputs": [],
   "source": []
  },
  {
   "cell_type": "code",
   "execution_count": null,
   "id": "af37148a",
   "metadata": {},
   "outputs": [],
   "source": []
  },
  {
   "cell_type": "code",
   "execution_count": null,
   "id": "e3af7649",
   "metadata": {},
   "outputs": [],
   "source": []
  }
 ],
 "metadata": {
  "kernelspec": {
   "display_name": "Python 3",
   "language": "python",
   "name": "python3"
  },
  "language_info": {
   "codemirror_mode": {
    "name": "ipython",
    "version": 3
   },
   "file_extension": ".py",
   "mimetype": "text/x-python",
   "name": "python",
   "nbconvert_exporter": "python",
   "pygments_lexer": "ipython3",
   "version": "3.8.8"
  }
 },
 "nbformat": 4,
 "nbformat_minor": 5
}
