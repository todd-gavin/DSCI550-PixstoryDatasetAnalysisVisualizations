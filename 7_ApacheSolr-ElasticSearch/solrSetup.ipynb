{
 "cells": [
  {
   "cell_type": "markdown",
   "source": [
    "# Apache SOLR Setup\n",
    "Use this notebook to understand how we've set up our Apache SOLR and ingested the data"
   ],
   "metadata": {
    "collapsed": false
   }
  },
  {
   "cell_type": "markdown",
   "source": [
    "# Notes\n",
    "- Make sure Docker is installed\n",
    "- Make sure to use the correct path, I'm using what my terminal defaults too\n",
    "\n"
   ],
   "metadata": {
    "collapsed": false
   }
  },
  {
   "cell_type": "markdown",
   "source": [
    "# Steps to Ingest the Data\n",
    "1. Pull the SOLR Docker Images. Run this in terminal:\n",
    "docker pull solr\n",
    "2. Create a docker container for the downloaded images:\n",
    "docker run -p 8983:8983 -t solr\n",
    "3. Create a core for the PixStory data:\n",
    "docker exec -it <container_id> solr create_core -c <core_name>\n",
    "Here, we can choose whatever core_name we want. I chose assignment3 for now. The container ID can be found by running:\n",
    "docker ps\n",
    "And then copying the task with SOLR in it.\n",
    "4. Index your Pixstory data into the Solr core using the Solr API:\n",
    "curl http://localhost:8983/solr/<core_name>/update -H 'Content-type:application/json' -d @<json_file_path>\n",
    "5. Verify that your data has been indexed by querying the Solr API:\n",
    "curl 'http://localhost:8983/solr/<core_name>/select?q=*:*&wt=json'"
   ],
   "metadata": {
    "collapsed": false
   }
  },
  {
   "cell_type": "markdown",
   "source": [
    "# Steps to Connect Apache SOLR to D3:\n",
    "// to be continued ..."
   ],
   "metadata": {
    "collapsed": false
   }
  },
  {
   "cell_type": "markdown",
   "source": [
    "# Steps to tar/gzip the data\n",
    "1. Find the Container ID using:\n",
    "docker ps\n",
    "2. Using the container_id found, export the solr core data to your local system:\n",
    "docker exec <container_id> bash -c \"cd /opt/solr/server/solr && tar cvf /tmp/solr-core.tar .\"\n",
    "3. Copy the tar archive from the container to your local file system:\n",
    "docker cp <container_id>:/tmp/solr-core.tar ~/solr-core.tar\n",
    "4. Gzip the tar archive:\n",
    "gzip ~/solr-core.tar\n",
    "\n",
    "This will compress the tar archive and save it as solr-core.tar.gz in your home directory."
   ],
   "metadata": {
    "collapsed": false
   }
  }
 ],
 "metadata": {
  "kernelspec": {
   "display_name": "Python 3",
   "language": "python",
   "name": "python3"
  },
  "language_info": {
   "codemirror_mode": {
    "name": "ipython",
    "version": 2
   },
   "file_extension": ".py",
   "mimetype": "text/x-python",
   "name": "python",
   "nbconvert_exporter": "python",
   "pygments_lexer": "ipython2",
   "version": "2.7.6"
  }
 },
 "nbformat": 4,
 "nbformat_minor": 0
}
