{
 "cells": [
  {
   "cell_type": "markdown",
   "metadata": {},
   "source": [
    "#INSTRUCTIONS FOR IMAGE SPACE SETUP\n",
    "\n",
    "How to download 80k images:\n",
    "1. Open file download_images.ipynb and run the code from top to bottom. 80,000+ images will begin to download in the 95k_Images folder.\n",
    "Use ls -1 | wc -l in 95k_Images to view download progress.\n",
    "\n",
    "How to get a subset of 1,000 Images:\n",
    "1. /bin/bash -c \"$(curl -fsSL https://raw.githubusercontent.com/Homebrew/install/HEAD/install.sh)\"\n",
    "2. brew install coreutils\n",
    "3. Run this on 95k_Images to get a subset: find 95k_Images/ -type f -print0 | shuf -n 1000 -z | xargs -0 -I{} cp {} subset_images/\n",
    "\n",
    "\n",
    "How to download Image Space repo:\n",
    "1. run this on 8_ImageSpace Folder: git clone https://github.com/nasa-jpl-memex/image_space.git\n",
    "\n",
    "2. Run this on image_space folder: cd /imagespace_smqtk && ./smqtk_services.run_images.sh --docker-network deploy_imagespace-network --images ../../95k_Images_v2\n",
    "3. Run this on image_space folder: cd \"scripts/deploy\" && IMAGE_DIR=../../../95k_Images_v2 docker-compose up -d\n",
    "4. cd \"../../scripts/deploy\" && sh ./imagespace/enable-imagespace.sh\n",
    "\n",
    "I ran these two commands and #4 seemed to work:\n",
    "docker rename deploy-imagespace-mongo-1 deploy_imagespace-mongo_1\n",
    "docker rename deploy-imagespace-girder-1 deploy_imagespace-girder_1\n",
    "\n",
    "this works: docker exec -it deploy-imagespace-mongo-1 mongo girder --eval 'db.setting.update({key: \"core.plugins_enabled\"}, {$push: {value: \"imagespace_smqtk\"}})'\n",
    "this works: docker exec -it deploy-imagespace-mongo-1 mongo girder --eval 'db.setting.insert({key: \"IMAGE_SPACE_SMQTK_NNSS_URL\", value: \"http://smqtk-services:12345\"})'\n",
    "this works: docker exec -it deploy-imagespace-mongo-1 mongo girder --eval 'db.setting.insert({key: \"IMAGE_SPACE_SMQTK_IQR_URL\", value: \"http://smqtk-services:12346\"})'\n",
    "this works: docker exec -it deploy-imagespace-mongo-1 mongo girder --eval 'db.setting.insert({key: \"IMAGE_SPACE_DEFAULT_SIMILARITY_SEARCH\", value: \"smqtk-similarity\"})'\n",
    "??: docker exec -it deploy-imagespace-mongo-1 touch /girder/girder/conf/girder.dist.cfg\n",
    "\n",
    "\n",
    "- Ingest a subset of your Pixstory 95k images / posts into Image Space using the provided instructions and scripts or the ones you write on your own using Tika-Python.\n",
    "- Browse and find similar images and use the ImageSpace search index and search the Image forensics and similarity (SMQTK).    "
   ]
  },
  {
   "cell_type": "code",
   "execution_count": null,
   "metadata": {},
   "outputs": [],
   "source": []
  }
 ],
 "metadata": {
  "kernelspec": {
   "display_name": "Python 3.9.13 64-bit",
   "language": "python",
   "name": "python3"
  },
  "language_info": {
   "codemirror_mode": {
    "name": "ipython",
    "version": 3
   },
   "file_extension": ".py",
   "mimetype": "text/x-python",
   "name": "python",
   "nbconvert_exporter": "python",
   "pygments_lexer": "ipython3",
   "version": "3.9.13"
  },
  "orig_nbformat": 4,
  "vscode": {
   "interpreter": {
    "hash": "aee8b7b246df8f9039afb4144a1f6fd8d2ca17a180786b69acc140d282b71a49"
   }
  }
 },
 "nbformat": 4,
 "nbformat_minor": 2
}
