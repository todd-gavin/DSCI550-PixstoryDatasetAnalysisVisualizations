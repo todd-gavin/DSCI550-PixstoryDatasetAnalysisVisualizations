{
 "cells": [
  {
   "cell_type": "markdown",
   "metadata": {},
   "source": [
    "#INSTRUCTIONS FOR IMAGE SPACE SETUP\n",
    "\n",
    "Download 80k images:\n",
    "1. Open file image_downloadv1.ipynb and run the code from top to bottom. 80,000+ images will begin to download in the 95k_Images folder.\n",
    "Use ls -1 | wc -l in 95k_Images to view download progress.\n",
    "Note: We downloaded 80,581 images out of a total of 80,585 images. This is because 4 images returned errors when downloading due to their link being broken.\n",
    "\n",
    "1. run this on 8_ImageSpace Folder: git clone https://github.com/nasa-jpl-memex/image_space.git\n",
    "\n"
   ]
  }
 ],
 "metadata": {
  "kernelspec": {
   "display_name": "Python 3.9.13 64-bit",
   "language": "python",
   "name": "python3"
  },
  "language_info": {
   "name": "python",
   "version": "3.9.13"
  },
  "orig_nbformat": 4,
  "vscode": {
   "interpreter": {
    "hash": "aee8b7b246df8f9039afb4144a1f6fd8d2ca17a180786b69acc140d282b71a49"
   }
  }
 },
 "nbformat": 4,
 "nbformat_minor": 2
}
