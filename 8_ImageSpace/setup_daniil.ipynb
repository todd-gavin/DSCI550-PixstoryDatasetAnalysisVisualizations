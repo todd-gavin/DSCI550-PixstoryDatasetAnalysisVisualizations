{
 "cells": [
  {
   "attachments": {},
   "cell_type": "markdown",
   "metadata": {},
   "source": [
    "# `INSTRUCTIONS FOR IMAGE SPACE SETUP`\n",
    "\n",
    "### Step 1 - Download 80k images:\n",
    "1. Open file download_images.ipynb and run the code from top to bottom. 80,000+ images will begin to download in the 95k_Images folder.\n",
    "Use ls -1 | wc -l in 95k_Images to view download progress.\n",
    "\n",
    "### Step 2 - Create a folder subset of 1,000 Images:\n",
    "1. /bin/bash -c \"$(curl -fsSL https://raw.githubusercontent.com/Homebrew/install/HEAD/install.sh)\"\n",
    "2. brew install coreutils\n",
    "3. Run this on 95k_Images to get a subset: find 95k_Images/ -type f -print0 | shuf -n 1000 -z | xargs -0 -I{} cp {} subset_images/\n",
    "\n",
    "### Step 3 - Download Image Space repo:\n",
    "1. run this on 8_ImageSpace Folder: `git clone https://github.com/nasa-jpl-memex/image_space.git`\n",
    "\n",
    "### Step 4 - Set environment variables:\n",
    "1. `export IMAGE_SPACE=/Users/daniilabbruzzese/Documents/Senior_Year/DSCI_550/assignment_3/DSCI550-PixstoryDatasetAnalysisVisualizations/8_ImageSpace/image_space`\n",
    "    - verify path: `echo $IMAGE_SPACE`\n",
    "2. `export IMAGE_DIR=/Users/daniilabbruzzese/Documents/Senior_Year/DSCI_550/assignment_3/DSCI550-PixstoryDatasetAnalysisVisualizations/8_ImageSpace/test_images`\n",
    "    - verify path: `echo $IMAGE_DIR`\n",
    "\n",
    "### Step 5 - Build your Neural Net (AlexNet) based features for the images.\n",
    "1. `cd \"$IMAGE_SPACE/imagespace_smqtk\" && ./smqtk_services.run_images.sh --docker-network deploy_imagespace-network --images \"$IMAGE_DIR\"`\n",
    "    - If having trouble, try to tear down the old network: `docker network prune`\n",
    "    - you should see `docker ps -a` showing NOTHING\n",
    "    - `docker network ls --no-trunc` showing NOTHING\n",
    "\n",
    "### Step 6 - Run Neural Net\n",
    "1. Run neural net command: `cd $IMAGE_SPACE/scripts/deploy && IMAGE_DIR=$IMAGE_DIR docker-compose up -d`\n",
    "    - To run on M1 mac, refer to next markdown cell.\n",
    "\n",
    "### Step 7 - Seeing if containers are working\n",
    "1. go to this site: http://localhost:8088/opsui and you should see the Apache OODT instance\n",
    "2. go to this site: http://localhost:64622/solr/#/imagecatdev/query and you should see the Apache Solr instance\n",
    "    - Need to check what number is associted with port 8081 on the imageCat docker container and change the `64622` number in the link to the matching port 8081 number\n"
   ]
  },
  {
   "attachments": {},
   "cell_type": "markdown",
   "metadata": {},
   "source": [
    "# `TRY CHNAGING TO platform: linux/arm64/v8`"
   ]
  },
  {
   "attachments": {},
   "cell_type": "markdown",
   "metadata": {},
   "source": [
    "## `Run on M1 Chip`\n",
    "\n",
    "#### To run on amd64 chip (M1 chip), need to add `platform` in docker-compose.yml (image_space/scripts/deploy) file to `amd64` such that the file under each docker container looks like:\n",
    "```sh\n",
    "version: \"2\"\n",
    "services:\n",
    "  imagespace-mongo:\n",
    "    platform: linux/amd64\n",
    "    image: mongo:3.0\n",
    "    command: \"--smallfiles\"\n",
    "    networks:\n",
    "      - imagespace-network\n",
    "  imagespace-solr:\n",
    "    platform: linux/amd64\n",
    "    image: solr:6.0\n",
    "    networks:\n",
    "      - imagespace-network\n",
    "    entrypoint:\n",
    "      - docker-entrypoint.sh\n",
    "      - solr-precreate\n",
    "      - imagespace\n",
    "```\n",
    "\n",
    "#### Change mongoDB docker version to support M1 chip\n",
    "- https://hub.docker.com/_/mongo/tags\n",
    "- `docker pull --platform linux/amd64 mongo:5.0.16`\n",
    "- Then go into the docker-compose.yml file and change version to `image: mongo:5.0.16`"
   ]
  }
 ],
 "metadata": {
  "kernelspec": {
   "display_name": "Python 3.9.13 64-bit",
   "language": "python",
   "name": "python3"
  },
  "language_info": {
   "codemirror_mode": {
    "name": "ipython",
    "version": 3
   },
   "file_extension": ".py",
   "mimetype": "text/x-python",
   "name": "python",
   "nbconvert_exporter": "python",
   "pygments_lexer": "ipython3",
   "version": "3.9.13"
  },
  "orig_nbformat": 4,
  "vscode": {
   "interpreter": {
    "hash": "aee8b7b246df8f9039afb4144a1f6fd8d2ca17a180786b69acc140d282b71a49"
   }
  }
 },
 "nbformat": 4,
 "nbformat_minor": 2
}
